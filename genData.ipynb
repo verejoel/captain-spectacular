{
 "cells": [
  {
   "cell_type": "code",
   "execution_count": 15,
   "metadata": {},
   "outputs": [],
   "source": [
    "# need a training dataset of simulated X_i = (T_i,Cv_i) data and the corresponding spectrum vectors s_j\n",
    "\n",
    "import numpy as np\n",
    "from matplotlib import pyplot as plt\n",
    "\n",
    "# range for output spectra\n",
    "wmax = 120\n",
    "\n",
    "# range for Debye spectra\n",
    "wDmin = 10\n",
    "wDmax = 40\n",
    "\n",
    "# range for width of optical modes\n",
    "sigbar = 10"
   ]
  },
  {
   "cell_type": "code",
   "execution_count": 2,
   "metadata": {},
   "outputs": [],
   "source": [
    "# makeT produces a vector of sorted, log-uniform distributed temperatures in the range [Tmin,Tmax]\n",
    "\n",
    "def makeT(m, Tmin, Tmax):\n",
    "    logTmax = np.log(Tmax)\n",
    "    logTmin = np.log(Tmin)\n",
    "    return np.sort(np.exp(np.random.uniform(logTmin, logTmax, m)))\n"
   ]
  },
  {
   "cell_type": "code",
   "execution_count": 3,
   "metadata": {},
   "outputs": [],
   "source": [
    "# here I work on modelling the density of states\n",
    "\n",
    "# makeW returns a vector of n omega (energy) values, up to wmax\n",
    "def makeW(n, wmax):\n",
    "    return (np.linspace(0, wmax, n),wmax/(n-1.))\n",
    "\n",
    "# debyeMode is normalized to 1, and takes the Debye frequency as a parameter\n",
    "# logical test implements the cutoff for w > wD\n",
    "def debyeSpectrum(w,wD):\n",
    "    return (w<=wD)*3*w*w/(wD*wD*wD)\n",
    "\n",
    "# opticalMode is also normalized to 1\n",
    "# models an optical phonon mode as a higher frequency Gaussian with mean mu and width sig\n",
    "def opticalMode(w, wbar, sig):\n",
    "    return np.exp(-0.5*(w-wbar)*(w-wbar)/(sig*sig))/np.sqrt(2*np.pi*sig*sig)\n",
    "\n",
    "# genSpectrum produces a Debye spectrum plus a random number of optical modes\n",
    "def genSpectrum(w):\n",
    "    # acoustic modes\n",
    "    s = np.zeros(len(w)) # initialize spectrum\n",
    "    wD = np.random.uniform(wDmin, wDmax) # randomly draw Debye frequency from uniform distribution\n",
    "    s += debyeSpectrum(w, wD) # update spectrum vector\n",
    "    # optical modes\n",
    "    n = np.random.randint(0,5) # number of optical modes\n",
    "    if n==0: # no need to proceed\n",
    "        return debyeSpectrum(w,wD)\n",
    "    wbar = np.random.uniform(wD, 0.75*max(w), n) # generate n positions for optical modes in range [wD, 0.5wmax]\n",
    "    sig = np.random.normal(sigbar, sigbar/3, n) # generate n widths for optical modes \n",
    "    for i in range(n):\n",
    "        s += opticalMode(w, wbar[i], sig[i])\n",
    "    return s/(n+1.)\n",
    "    "
   ]
  },
  {
   "cell_type": "code",
   "execution_count": 17,
   "metadata": {},
   "outputs": [
    {
     "name": "stdout",
     "output_type": "stream",
     "text": [
      "1.0019000441055956\n"
     ]
    },
    {
     "data": {
      "text/plain": [
       "[<matplotlib.lines.Line2D at 0x7f72e1360f90>]"
      ]
     },
     "execution_count": 17,
     "metadata": {},
     "output_type": "execute_result"
    },
    {
     "data": {
      "image/png": "[encoded data removed]",
      "text/plain": [
       "<Figure size 432x288 with 1 Axes>"
      ]
     },
     "metadata": {},
     "output_type": "display_data"
    }
   ],
   "source": [
    "(w,dw) = makeW(500,wmax)\n",
    "dos = genSpectrum(w)\n",
    "# check normalization, should be ~1 (very poor integration approximation)\n",
    "print np.sum(dos*dw)\n",
    "# plot\n",
    "plt.plot(w,dos)"
   ]
  },
  {
   "cell_type": "code",
   "execution_count": null,
   "metadata": {},
   "outputs": [],
   "source": []
  }
 ],
 "metadata": {
  "kernelspec": {
   "display_name": "Python 2",
   "language": "python",
   "name": "python2"
  },
  "language_info": {
   "codemirror_mode": {
    "name": "ipython",
    "version": 2
   },
   "file_extension": ".py",
   "mimetype": "text/x-python",
   "name": "python",
   "nbconvert_exporter": "python",
   "pygments_lexer": "ipython2",
   "version": "2.7.12"
  }
 },
 "nbformat": 4,
 "nbformat_minor": 2
}
