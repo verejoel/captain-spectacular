{
 "cells": [
  {
   "cell_type": "code",
   "execution_count": null,
   "metadata": {},
   "outputs": [],
   "source": [
    "# need a training dataset of simulated X_i = (T_i,Cv_i) data and the corresponding spectrum vectors s_j\n",
    "\n",
    "import numpy as np\n",
    "from matplotlib import pyplot as plt\n",
    "\n",
    "# boltzmann constant in meV per Kelvin\n",
    "kB = 0.08617\n",
    "\n",
    "# phonon DOS properties (units are meV)\n",
    "n = 240 # length of output array\n",
    "wmax = 120 # ouput spectra will cover range [dw, wmax]\n",
    "dw = wmax/(1.*n) # spectrum bin width\n",
    "\n",
    "# range for Debye spectra (meV)\n",
    "wDmin = 10\n",
    "wDmax = 40\n",
    "\n",
    "# range for width of optical modes\n",
    "sigbar = 10\n",
    "\n",
    "# temperature vector properties (units are Kelvin)\n",
    "m = 300 # length of temperature array\n",
    "#\n",
    "# temperatures are log uniform distributed in the range [0.1, 300]\n",
    "# i.e. T~exp(U[log(0.1),log(300)])\n",
    "#\n",
    "Tmin = 1 # minimum temp\n",
    "Tmax = 300 # maximum temp\n",
    "\n"
   ]
  },
  {
   "cell_type": "code",
   "execution_count": null,
   "metadata": {},
   "outputs": [],
   "source": [
    "# makeT produces a linear space of temperatures in the range [Tmin,Tmax]\n",
    "\n",
    "def makeT(m):\n",
    "    return np.linspace(Tmin, Tmax, m)\n"
   ]
  },
  {
   "cell_type": "code",
   "execution_count": null,
   "metadata": {},
   "outputs": [],
   "source": [
    "# here I work on modelling the density of states\n",
    "\n",
    "# makeW returns a vector of n omega (energy) values, up to wmax\n",
    "def makeW(n):\n",
    "    return np.linspace(dw, wmax, n)\n",
    "\n",
    "# debyeMode is normalized to 1, and takes the Debye frequency as a parameter\n",
    "# logical test implements the cutoff for w > wD\n",
    "def debyeSpectrum(w, wD):\n",
    "    return dw*(w<=wD)*3*w*w/(wD*wD*wD)\n",
    "\n",
    "# opticalMode is also normalized to 1\n",
    "# models an optical phonon mode as a higher frequency Gaussian with mean mu and width sig\n",
    "def opticalMode(w, wbar, sig):\n",
    "    return dw*np.exp(-0.5*(w-wbar)*(w-wbar)/(sig*sig))/np.sqrt(2*np.pi*sig*sig)\n",
    "\n",
    "# genSpectrum produces a Debye spectrum plus a random number of optical modes\n",
    "def genSpectrum(w):\n",
    "    # acoustic modes\n",
    "    s = np.zeros(len(w)) # initialize spectrum\n",
    "    wD = np.random.uniform(wDmin, wDmax) # randomly draw Debye frequency from uniform distribution\n",
    "    s += debyeSpectrum(w, wD) # update spectrum vector\n",
    "    # optical modes\n",
    "    n = np.random.randint(0,5) # number of optical modes\n",
    "    if n==0: # no need to proceed\n",
    "        return debyeSpectrum(w,wD)\n",
    "    wbar = np.random.uniform(wD, 0.75*max(w), n) # generate n positions for optical modes in range [wD, 0.5wmax]\n",
    "    sig = np.random.normal(sigbar, sigbar/3, n) # generate n widths for optical modes \n",
    "    for i in range(n):\n",
    "        s += opticalMode(w, wbar[i], sig[i])\n",
    "    return s/(n+1.)\n",
    "    "
   ]
  },
  {
   "cell_type": "code",
   "execution_count": null,
   "metadata": {},
   "outputs": [],
   "source": [
    "# checking the simulated phonon DOS\n",
    "w = makeW(n)\n",
    "dos = debyeSpectrum(w, 80)\n",
    "# check normalization, should be ~1 (very poor integration approximation)\n",
    "print np.sum(dos)\n",
    "# plot\n",
    "plt.plot(w,dos)"
   ]
  },
  {
   "cell_type": "code",
   "execution_count": null,
   "metadata": {},
   "outputs": [],
   "source": [
    "# now work on calculating the heat capacity\n",
    "def kernel(w, T):\n",
    "    y = np.outer(1/T/kB, w) # m x n matrix\n",
    "    #return y\n",
    "    return y*y*np.exp(-y)/(np.exp(-y)-1)**2\n",
    "\n",
    "def cv(K, dos):\n",
    "    return np.dot(K, dos)\n",
    "    "
   ]
  },
  {
   "cell_type": "code",
   "execution_count": null,
   "metadata": {},
   "outputs": [],
   "source": [
    "# plot the simulated heat capacity and underlying phonon DOS\n",
    "T = makeT(m)\n",
    "w = makeW(n)\n",
    "\n",
    "K = kernel(w, T)\n",
    "Y = genSpectrum(w)\n",
    "\n",
    "X = cv(K, Y)\n",
    "\n",
    "plt.figure(1)\n",
    "plt.plot(T,X,'r+')\n",
    "plt.figure(2)\n",
    "plt.plot(w,Y,'b+')\n"
   ]
  },
  {
   "cell_type": "code",
   "execution_count": null,
   "metadata": {},
   "outputs": [],
   "source": [
    "def genData(p):\n",
    "    X = np.zeros((p, 2, m))\n",
    "    Y = np.zeros((p, n))\n",
    "    \n",
    "    T = makeT(m)\n",
    "    w = makeW(n)\n",
    "    \n",
    "    K = kernel(w, T)\n",
    "    for i in range(p):\n",
    "        y = genSpectrum(w)\n",
    "        x = cv(K, y)\n",
    "        X[i][0] = T\n",
    "        X[i][1] = x\n",
    "        Y[i] = y\n",
    "    return [X, Y]\n"
   ]
  },
  {
   "cell_type": "code",
   "execution_count": null,
   "metadata": {},
   "outputs": [],
   "source": [
    "# test the genData function\n",
    "p=100\n",
    "[X, Y] = genData(p)\n",
    "r = np.random.randint(0,p,5)\n",
    "print r\n",
    "for i in r:\n",
    "    plt.figure(0)\n",
    "    plt.plot(X[i][0],X[i][1],'+')\n",
    "    plt.figure(1)\n",
    "    plt.plot(w,Y[i])"
   ]
  },
  {
   "cell_type": "code",
   "execution_count": null,
   "metadata": {},
   "outputs": [],
   "source": [
    "# more plots\n",
    "r = np.random.randint(0,p,5)\n",
    "print r\n",
    "for i in r:\n",
    "    plt.figure(0)\n",
    "    plt.plot(X[i][0],X[i][1],'+')\n",
    "    plt.figure(1)\n",
    "    plt.plot(w,Y[i])"
   ]
  },
  {
   "cell_type": "code",
   "execution_count": null,
   "metadata": {},
   "outputs": [],
   "source": [
    "# export training data to file\n",
    "import pandas as pd\n",
    "\n",
    "p = 60000 # number of training data\n",
    "q = 10000 # number of test data\n",
    "\n",
    "[X_train, Y_train] = genData(p)\n",
    "[X_test, Y_test] = genData(q)\n",
    "\n",
    "# need to reshape the X data to be 2D\n",
    "X_train = np.reshape(X_train,(p, 2*m))\n",
    "X_test = np.reshape(X_test,(q, 2*m))\n",
    "\n",
    "# pickle data using pandas and compress using BZIP2\n",
    "pd.DataFrame(X_train).to_pickle(\"../training_data/X_train.bz2\")\n",
    "pd.DataFrame(Y_train).to_pickle(\"../training_data/Y_train.bz2\")\n",
    "pd.DataFrame(X_test).to_pickle(\"../training_data/X_test.bz2\")\n",
    "pd.DataFrame(Y_test).to_pickle(\"../training_data/Y_test.bz2\")"
   ]
  },
  {
   "cell_type": "code",
   "execution_count": null,
   "metadata": {},
   "outputs": [],
   "source": [
    "# read pickled data and check it recreates X\n",
    "x_read = pd.read_pickle(\"../training_data/X_train.bz2\")\n",
    "x_read = x_read.values # back to numpy array\n",
    "print np.shape(x_read)\n",
    "X_read = np.reshape(x_read,(p, 2, m))\n",
    "X_train = np.reshape(X_train,(p, 2, m))\n",
    "# sum the differences between the vectors\n",
    "np.sum(X_train - X_read)"
   ]
  },
  {
   "cell_type": "code",
   "execution_count": null,
   "metadata": {},
   "outputs": [],
   "source": []
  }
 ],
 "metadata": {
  "kernelspec": {
   "display_name": "Python 2",
   "language": "python",
   "name": "python2"
  },
  "language_info": {
   "codemirror_mode": {
    "name": "ipython",
    "version": 2
   },
   "file_extension": ".py",
   "mimetype": "text/x-python",
   "name": "python",
   "nbconvert_exporter": "python",
   "pygments_lexer": "ipython2",
   "version": "2.7.12"
  }
 },
 "nbformat": 4,
 "nbformat_minor": 2
}
