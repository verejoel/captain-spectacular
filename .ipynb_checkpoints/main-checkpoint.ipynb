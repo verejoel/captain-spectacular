{
 "cells": [
  {
   "cell_type": "code",
   "execution_count": 1,
   "metadata": {},
   "outputs": [
    {
     "name": "stderr",
     "output_type": "stream",
     "text": [
      "Using TensorFlow backend.\n"
     ]
    }
   ],
   "source": [
    "import numpy as np\n",
    "\n",
    "from keras.models import Sequential\n",
    "# sequential model, for linear stack of NN layers\n",
    "\n",
    "from keras.layers import Dense, Dropout, Activation, Flatten\n",
    "# Dense is a standard densely connected NN layer\n",
    "# Dropout randomly drops a percentage, p, of the neurons from a layer (helps reduce overfitting)\n",
    "\n",
    "from keras.layers import Conv2D, MaxPooling2D\n",
    "# Convolution layers that help efficiently train image data\n",
    "\n",
    "from keras.utils import np_utils\n",
    "# used for transforming data"
   ]
  },
  {
   "cell_type": "code",
   "execution_count": 2,
   "metadata": {},
   "outputs": [],
   "source": [
    "# here we can import the MNIST dataset\n",
    "from keras.datasets import mnist\n",
    "\n",
    "# and now we can load pre-shuffled data into training and testing datasets\n",
    "(X_train, y_train), (X_test, y_test) = mnist.load_data()"
   ]
  },
  {
   "cell_type": "code",
   "execution_count": 3,
   "metadata": {},
   "outputs": [
    {
     "name": "stdout",
     "output_type": "stream",
     "text": [
      "60000\n",
      "2\n"
     ]
    }
   ],
   "source": [
    "# show size of training data\n",
    "(m,i,j) = X_train.shape\n",
    "print m\n",
    "\n",
    "# view a random entry\n",
    "from matplotlib import pyplot as plt\n",
    "\n",
    "k = np.random.randint(1,m)-1\n",
    "plt.imshow(X_train[k], cmap='gray')\n",
    "\n",
    "# find out entry's classification\n",
    "print y_train[k]"
   ]
  },
  {
   "cell_type": "code",
   "execution_count": 4,
   "metadata": {},
   "outputs": [],
   "source": [
    "# preprocess input data\n",
    "\n",
    "X_train = X_train.reshape(X_train.shape[0], 28, 28, 1)\n",
    "X_test = X_test.reshape(X_test.shape[0], 28, 28, 1)\n",
    "\n",
    "X_train = X_train.astype('float32')\n",
    "X_test = X_test.astype('float32')\n",
    "# cast types from int to floating point\n",
    "\n",
    "X_train /= 255\n",
    "X_test /= 255\n",
    "# normalize so values range between 0 and 1\n",
    "\n"
   ]
  },
  {
   "cell_type": "code",
   "execution_count": 5,
   "metadata": {},
   "outputs": [],
   "source": [
    "# preprocess class labels\n",
    "\n",
    "Y_train = np_utils.to_categorical(y_train, 10)\n",
    "Y_test = np_utils.to_categorical(y_test, 10)\n",
    "# this forms a m by 10 matrix of the y output, suitable for classification"
   ]
  },
  {
   "cell_type": "code",
   "execution_count": 6,
   "metadata": {},
   "outputs": [
    {
     "name": "stdout",
     "output_type": "stream",
     "text": [
      "(60000, 28, 28, 1)\n"
     ]
    }
   ],
   "source": [
    "print X_train.shape"
   ]
  },
  {
   "cell_type": "code",
   "execution_count": 10,
   "metadata": {},
   "outputs": [
    {
     "name": "stdout",
     "output_type": "stream",
     "text": [
      "(None, 26, 26, 32)\n",
      "(None, 128)\n",
      "(None, 10)\n"
     ]
    }
   ],
   "source": [
    "# here we define the model architecture\n",
    "model = Sequential()\n",
    "\n",
    "#input layer\n",
    "model.add(Conv2D(32, (3, 3), activation='relu', input_shape=(28,28,1)))\n",
    "\n",
    "# input shape is the same as the dimensions of 1 sample of X_train\n",
    "# first two params: \n",
    "# number of convolution filters  \n",
    "# number of (rows, columns) in each kernel \n",
    "\n",
    "print model.output_shape\n",
    "\n",
    "model.add(Conv2D(32, (3,3), activation='relu'))\n",
    "model.add(MaxPooling2D(pool_size=(2,2)))\n",
    "model.add(Dropout(0.25))\n",
    "\n",
    "model.add(Flatten())\n",
    "model.add(Dense(128,activation='relu'))\n",
    "\n",
    "print model.output_shape\n",
    "\n",
    "model.add(Dropout(0.5))\n",
    "model.add(Dense(10, activation='softmax'))\n",
    "\n",
    "print model.output_shape"
   ]
  },
  {
   "cell_type": "code",
   "execution_count": 11,
   "metadata": {},
   "outputs": [],
   "source": [
    "# here we compile the model and define a loss function\n",
    "model.compile(loss='categorical_crossentropy', optimizer='adam', metrics=['accuracy'])"
   ]
  },
  {
   "cell_type": "code",
   "execution_count": 13,
   "metadata": {},
   "outputs": [
    {
     "name": "stdout",
     "output_type": "stream",
     "text": [
      "Epoch 1/10\n",
      "60000/60000 [==============================] - 100s 2ms/step - loss: 0.2081 - acc: 0.9367\n",
      "Epoch 2/10\n",
      "60000/60000 [==============================] - 102s 2ms/step - loss: 0.0852 - acc: 0.9748\n",
      "Epoch 3/10\n",
      "60000/60000 [==============================] - 101s 2ms/step - loss: 0.0664 - acc: 0.9799\n",
      "Epoch 4/10\n",
      "60000/60000 [==============================] - 99s 2ms/step - loss: 0.0578 - acc: 0.9829\n",
      "Epoch 5/10\n",
      "60000/60000 [==============================] - 101s 2ms/step - loss: 0.0497 - acc: 0.9849\n",
      "Epoch 6/10\n",
      "60000/60000 [==============================] - 101s 2ms/step - loss: 0.0419 - acc: 0.9867\n",
      "Epoch 7/10\n",
      "60000/60000 [==============================] - 101s 2ms/step - loss: 0.0383 - acc: 0.9884\n",
      "Epoch 8/10\n",
      "60000/60000 [==============================] - 115s 2ms/step - loss: 0.0362 - acc: 0.9884\n",
      "Epoch 9/10\n",
      "60000/60000 [==============================] - 113s 2ms/step - loss: 0.0328 - acc: 0.9892\n",
      "Epoch 10/10\n",
      "60000/60000 [==============================] - 112s 2ms/step - loss: 0.0300 - acc: 0.9906\n"
     ]
    },
    {
     "data": {
      "text/plain": [
       "<keras.callbacks.History at 0x7efc0f18fe10>"
      ]
     },
     "execution_count": 13,
     "metadata": {},
     "output_type": "execute_result"
    }
   ],
   "source": [
    "# now we can fit the model\n",
    "model.fit(X_train, Y_train, batch_size=32, epochs=10, verbose=1)"
   ]
  },
  {
   "cell_type": "code",
   "execution_count": 18,
   "metadata": {},
   "outputs": [
    {
     "name": "stdout",
     "output_type": "stream",
     "text": [
      "10000/10000 [==============================] - 4s 412us/step\n"
     ]
    }
   ],
   "source": [
    "# now evaluate model's performance on test data\n",
    "score = model.evaluate(X_test, Y_test, verbose=1)"
   ]
  },
  {
   "cell_type": "code",
   "execution_count": 19,
   "metadata": {},
   "outputs": [
    {
     "name": "stdout",
     "output_type": "stream",
     "text": [
      "[0.027973061142812776, 0.9917]\n"
     ]
    }
   ],
   "source": [
    "print score"
   ]
  }
 ],
 "metadata": {
  "kernelspec": {
   "display_name": "Python 2",
   "language": "python",
   "name": "python2"
  },
  "language_info": {
   "codemirror_mode": {
    "name": "ipython",
    "version": 2
   },
   "file_extension": ".py",
   "mimetype": "text/x-python",
   "name": "python",
   "nbconvert_exporter": "python",
   "pygments_lexer": "ipython2",
   "version": "2.7.12"
  }
 },
 "nbformat": 4,
 "nbformat_minor": 2
}
