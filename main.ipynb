{
 "cells": [
  {
   "cell_type": "code",
   "execution_count": null,
   "metadata": {},
   "outputs": [],
   "source": [
    "############################ AIM OF THIS WORK ############################\n",
    "#\n",
    "# To design an artificial brain that can estimate the phonon density of \n",
    "# states from temperature dependent heat capacity data\n",
    "#\n",
    "############################## BASIC THEORY ##############################\n",
    "#\n",
    "# Specific heat due to phonons is related to phonon density of states by \n",
    "# the integral transform:\n",
    "#\n",
    "#     Cv(T) = int_0^infty [dw D(w) K(w,T)]\n",
    "#\n",
    "# Cv - heat capacity at constant volume\n",
    "# T - temperature\n",
    "# R - gas constant\n",
    "# w - phonon frequency\n",
    "# D(w) - phonon density of states (DOS)\n",
    "# K(w,T) - kernel matrix\n",
    "#\n",
    "# One first discretizes the DOS by defining \n",
    "#\n",
    "#     D(n dw) = s_n dw\n",
    "#\n",
    "# such that the problem is reformulated as a matrix equation:\n",
    "#\n",
    "#     Cv(T_i) = sum_j [K_ij s_j].\n",
    "#\n",
    "# The kernel matrix K is given by\n",
    "#\n",
    "#     K_ij = 3R y^2 exp(y)/(1-exp(y))^2\n",
    "#\n",
    "# with \n",
    "#\n",
    "#     y = (hbar w_j)/(k_B T_i).\n",
    "#\n",
    "# N.B. we set hbar = k_B = 3R = 1 for the time being.\n",
    "#\n",
    "# Therefore we have an (m by 1) input vector of (T_i, Cv_i) tuples, and\n",
    "# require an (n by 1) output vector of the s_j components of the DOS, D(w)\n",
    "#\n",
    "############################## P ##############################\n",
    "#\n",
    "# raw input data consists of a vector containing (T_i, Cv_i) tuples (m observations in total)\n",
    "# to input this into the neural network, calculate the Euclidean distance from the origin of each data point\n",
    "#\n",
    "# u_i = sqrt(T_i^2 + Cv_i^2)\n",
    "#\n",
    "# then u is an m-dimensional column vector repesenting the experimental Cv(T)\n",
    "#\n",
    "# to output the density of states, we discretize it: D(w) -> D(n dw) defn s dw\n",
    "#\n",
    "# where the vector s has n entries s_j representing the density of states"
   ]
  }
 ],
 "metadata": {
  "kernelspec": {
   "display_name": "Python 2",
   "language": "python",
   "name": "python2"
  },
  "language_info": {
   "codemirror_mode": {
    "name": "ipython",
    "version": 2
   },
   "file_extension": ".py",
   "mimetype": "text/x-python",
   "name": "python",
   "nbconvert_exporter": "python",
   "pygments_lexer": "ipython2",
   "version": "2.7.12"
  }
 },
 "nbformat": 4,
 "nbformat_minor": 2
}
